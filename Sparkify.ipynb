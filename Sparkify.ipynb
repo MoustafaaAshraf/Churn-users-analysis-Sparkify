{
 "cells": [
  {
   "cell_type": "markdown",
   "metadata": {},
   "source": [
    "# Sparkify Project Workspace\n",
    "This workspace contains a tiny subset (128MB) of the full dataset available (12GB). Feel free to use this workspace to build your project, or to explore a smaller subset with Spark before deploying your cluster on the cloud. Instructions for setting up your Spark cluster is included in the last lesson of the Extracurricular Spark Course content.\n",
    "\n",
    "You can follow the steps below to guide your data analysis and model building portion of this project."
   ]
  },
  {
   "cell_type": "code",
   "execution_count": 19,
   "metadata": {},
   "outputs": [],
   "source": [
    "# import libraries\n",
    "from pyspark.sql import SparkSession\n",
    "from pyspark.sql.functions import avg, col, concat, desc, explode, lit, min, max, split, udf, isnull\n",
    "import pyspark.sql.functions as F\n",
    "from pyspark.sql.types import IntegerType\n",
    "from pyspark.sql import Window\n",
    "\n",
    "from pyspark.ml import Pipeline\n",
    "from pyspark.ml.classification import LogisticRegression, GBTClassifier,LinearSVC\n",
    "from pyspark.ml.evaluation import MulticlassClassificationEvaluator\n",
    "from pyspark.ml.feature import StandardScaler, VectorAssembler\n",
    "from pyspark.ml.regression import LinearRegression\n",
    "from pyspark.ml.tuning import CrossValidator, ParamGridBuilder\n",
    "\n",
    "import datetime\n",
    "import matplotlib.pyplot as plt\n",
    "import pandas as pd\n",
    "import numpy as np\n",
    "import seaborn as sns"
   ]
  },
  {
   "cell_type": "code",
   "execution_count": 2,
   "metadata": {},
   "outputs": [],
   "source": [
    "# create a Spark session\n",
    "spark = SparkSession.builder.getOrCreate()"
   ]
  },
  {
   "cell_type": "markdown",
   "metadata": {},
   "source": [
    "# Load and Clean Dataset\n",
    "In this workspace, the mini-dataset file is `mini_sparkify_event_data.json`. Load and clean the dataset, checking for invalid or missing data - for example, records without userids or sessionids. "
   ]
  },
  {
   "cell_type": "code",
   "execution_count": 3,
   "metadata": {},
   "outputs": [],
   "source": [
    "df = spark.read.json(\"mini_sparkify_event_data.json\")"
   ]
  },
  {
   "cell_type": "code",
   "execution_count": 4,
   "metadata": {},
   "outputs": [
    {
     "name": "stdout",
     "output_type": "stream",
     "text": [
      "root\n",
      " |-- artist: string (nullable = true)\n",
      " |-- auth: string (nullable = true)\n",
      " |-- firstName: string (nullable = true)\n",
      " |-- gender: string (nullable = true)\n",
      " |-- itemInSession: long (nullable = true)\n",
      " |-- lastName: string (nullable = true)\n",
      " |-- length: double (nullable = true)\n",
      " |-- level: string (nullable = true)\n",
      " |-- location: string (nullable = true)\n",
      " |-- method: string (nullable = true)\n",
      " |-- page: string (nullable = true)\n",
      " |-- registration: long (nullable = true)\n",
      " |-- sessionId: long (nullable = true)\n",
      " |-- song: string (nullable = true)\n",
      " |-- status: long (nullable = true)\n",
      " |-- ts: long (nullable = true)\n",
      " |-- userAgent: string (nullable = true)\n",
      " |-- userId: string (nullable = true)\n",
      "\n"
     ]
    }
   ],
   "source": [
    "df.printSchema()"
   ]
  },
  {
   "cell_type": "markdown",
   "metadata": {},
   "source": [
    "Exploring Null values and Empty strings"
   ]
  },
  {
   "cell_type": "code",
   "execution_count": 5,
   "metadata": {},
   "outputs": [
    {
     "name": "stdout",
     "output_type": "stream",
     "text": [
      "          Feature # Null values # Empety string  % Non-null values\n",
      "0          artist         58392               0           0.796188\n",
      "1            auth             0               0           1.000000\n",
      "2       firstName          8346               0           0.970869\n",
      "3          gender          8346               0           0.970869\n",
      "4   itemInSession             0               0           1.000000\n",
      "5        lastName          8346               0           0.970869\n",
      "6          length         58392               0           0.796188\n",
      "7           level             0               0           1.000000\n",
      "8        location          8346               0           0.970869\n",
      "9          method             0               0           1.000000\n",
      "10           page             0               0           1.000000\n",
      "11   registration          8346               0           0.970869\n",
      "12      sessionId             0               0           1.000000\n",
      "13           song         58392               0           0.796188\n",
      "14         status             0               0           1.000000\n",
      "15             ts             0               0           1.000000\n",
      "16      userAgent          8346               0           0.970869\n",
      "17         userId             0            8346           1.000000\n"
     ]
    }
   ],
   "source": [
    "def info(df):\n",
    "    '''\n",
    "    Unput: dataframe\n",
    "    Output: a dataframe outlining each feature and respective number of Null values, Empty strings, percentage of Non-null values\n",
    "    '''\n",
    "    # Create new dataframe to fill with the exploratory data\n",
    "    df_info = pd.DataFrame(columns = ['Feature','# Null values','# Empety string','% Non-null values'])\n",
    "\n",
    "    # Counter of analyzed rows\n",
    "    i = 0\n",
    "    \n",
    "    # Number of columns in input dataframe to be set as index in the output machine \n",
    "    row_count = df.count()\n",
    "    \n",
    "    # For each column:\n",
    "    for col in df.columns:\n",
    "        # Count null values\n",
    "        null_count = df.filter(isnull(df[col])).count()\n",
    "        # Count empty strings\n",
    "        emptystring_count = df.filter(df[col].isin('')).count()\n",
    "        # For each row, log the acquired details\n",
    "        df_info.loc[i] = [col, null_count, emptystring_count, (row_count-null_count)/row_count]\n",
    "        # move on to the next index (new columns)\n",
    "        i += 1\n",
    "    print(df_info)\n",
    "    \n",
    "info(df)"
   ]
  },
  {
   "cell_type": "code",
   "execution_count": 6,
   "metadata": {},
   "outputs": [
    {
     "name": "stdout",
     "output_type": "stream",
     "text": [
      "The number of rows in the dataframe was 286500, now is 278154\n",
      "The number of features in the dataframe was 18, now is 20\n"
     ]
    }
   ],
   "source": [
    "def clean(df):\n",
    "    \n",
    "    row_count = df.count()\n",
    "    columns_count = len(df.columns)\n",
    "    \n",
    "    # Drop any cells with missing user id or session id\n",
    "    df_new = df.dropna(how = 'any', subset = ['userId', 'sessionId'])\n",
    "    \n",
    "    # Filter out records with empty userId\n",
    "    df_new = df_new.filter(df_new['userId'] != '')\n",
    "    \n",
    "    # Clearly represent registration and timestamp by creating new columns\n",
    "    new_ts = udf(lambda x: datetime.datetime.fromtimestamp(x / 1000.0).strftime(\"%m-%d-%Y %H:%M:%S\"))\n",
    "    df_new = df_new.withColumn('updated_registration', new_ts('registration'))\n",
    "    df_new = df_new.withColumn('updated_ts', new_ts('ts'))\n",
    "    \n",
    "    new_row_count = df_new.count()\n",
    "    new_columns_count = len(df_new.columns)\n",
    "    \n",
    "    print(\"The number of rows in the dataframe was {}, now is {}\".format(df.count(), new_row_count))\n",
    "    print(\"The number of features in the dataframe was {}, now is {}\".format(len(df.columns) ,new_columns_count))\n",
    "    \n",
    "    return df_new\n",
    "\n",
    "df = clean(df)"
   ]
  },
  {
   "cell_type": "markdown",
   "metadata": {},
   "source": [
    "# Exploratory Data Analysis\n",
    "When you're working with the full dataset, perform EDA by loading a small subset of the data and doing basic manipulations within Spark. In this workspace, you are already provided a small subset of data you can explore.\n",
    "\n",
    "### Define Churn\n",
    "\n",
    "Once you've done some preliminary analysis, create a column `Churn` to use as the label for your model. I suggest using the `Cancellation Confirmation` events to define your churn, which happen for both paid and free users. As a bonus task, you can also look into the `Downgrade` events.\n",
    "\n",
    "### Explore Data\n",
    "Once you've defined churn, perform some exploratory data analysis to observe the behavior for users who stayed vs users who churned. You can start by exploring aggregates on these two groups of users, observing how much of a specific action they experienced per a certain time unit or number of songs played."
   ]
  },
  {
   "cell_type": "markdown",
   "metadata": {},
   "source": [
    "**Defining the Churn**"
   ]
  },
  {
   "cell_type": "code",
   "execution_count": 7,
   "metadata": {},
   "outputs": [],
   "source": [
    "def define_churn(df):\n",
    "    '''\n",
    "    input: a dataframe\n",
    "    output: the input dataframe with a new column labeling as churn or not\n",
    "    '''\n",
    "    # UDF function that labels the user as churn if they landed on Cancellation Confirmation or Downgrade pages\n",
    "    cancelation = udf(lambda x: 1 if (x == \"Cancellation Confirmation\") or (x == \"Submit Downgrade\")  else 0, IntegerType())\n",
    "\n",
    "    # Applying cancelation function\n",
    "    df = df.withColumn(\"churn\", cancelation(\"page\"))\n",
    "\n",
    "    # Defining a window to agregate each user\n",
    "    window = Window.partitionBy(\"userId\").rangeBetween(Window.unboundedPreceding, Window.unboundedFollowing)\n",
    "\n",
    "    # whether is the user is defined as Churn or not\n",
    "    df = df.withColumn(\"churn\", F.max(\"churn\").over(window))\n",
    "    \n",
    "    return df\n",
    "\n",
    "df = define_churn(df)"
   ]
  },
  {
   "cell_type": "markdown",
   "metadata": {},
   "source": [
    "**Number of Active vs. Churn users in the database**"
   ]
  },
  {
   "cell_type": "code",
   "execution_count": 8,
   "metadata": {},
   "outputs": [
    {
     "data": {
      "image/png": "[encoded data removed]",
      "text/plain": [
       "<Figure size 432x288 with 1 Axes>"
      ]
     },
     "metadata": {
      "needs_background": "light"
     },
     "output_type": "display_data"
    }
   ],
   "source": [
    "# Counting the number of users based on subscription status with respect to all availables log instances\n",
    "pd = df.drop_duplicates(['userId']).groupBy(['churn']).count().toPandas()\n",
    "\n",
    "# Visualisation\n",
    "sns.barplot(data = pd, x = 'churn', y = 'count')\n",
    "\n",
    "# Labeling bars\n",
    "ticks = ['Active', 'Churn/Cancelled']\n",
    "\n",
    "# Bar positioning\n",
    "x_pos = np.arange(len(ticks))\n",
    "\n",
    "# Applying ticks configurations\n",
    "plt.xticks(x_pos, ticks)\n",
    "plt.title('Number of unique users by Subscription Status')\n",
    "plt.ylabel('Number of users')\n",
    "plt.xlabel('Subscription Status');"
   ]
  },
  {
   "cell_type": "markdown",
   "metadata": {},
   "source": [
    "**Gender distribution of Active vs. Churn users in the database**"
   ]
  },
  {
   "cell_type": "code",
   "execution_count": 9,
   "metadata": {},
   "outputs": [
    {
     "data": {
      "image/png": "[encoded data removed]",
      "text/plain": [
       "<Figure size 432x288 with 1 Axes>"
      ]
     },
     "metadata": {
      "needs_background": "light"
     },
     "output_type": "display_data"
    }
   ],
   "source": [
    "# Counting the number of users based on subscription status and gender with respect to all availables log instances\n",
    "pd = df.drop_duplicates(['userId']).groupBy(['churn', 'gender']).count().toPandas()\n",
    "\n",
    "# Visualisation\n",
    "sns.barplot(data = pd, x = 'churn', y = 'count', hue = 'gender')\n",
    "\n",
    "# Labeling bars\n",
    "ticks = ['Active', 'Churn/Cancelled']\n",
    "\n",
    "# Bar positioning\n",
    "x_pos = np.arange(len(ticks))\n",
    "\n",
    "# Applying ticks configurations\n",
    "plt.xticks(x_pos, ticks)\n",
    "plt.title('Number of unique users by Subscription Status')\n",
    "plt.ylabel('Number of users')\n",
    "plt.xlabel('Subscription Status');"
   ]
  },
  {
   "cell_type": "markdown",
   "metadata": {},
   "source": [
    "**Pages usage of Active vs. Churn users in the database**"
   ]
  },
  {
   "cell_type": "code",
   "execution_count": 10,
   "metadata": {},
   "outputs": [
    {
     "data": {
      "text/plain": [
       "Text(0.5, 0, '% of envents')"
      ]
     },
     "execution_count": 10,
     "metadata": {},
     "output_type": "execute_result"
    },
    {
     "data": {
      "image/png": "[encoded data removed]",
      "text/plain": [
       "<Figure size 864x720 with 1 Axes>"
      ]
     },
     "metadata": {
      "needs_background": "light"
     },
     "output_type": "display_data"
    }
   ],
   "source": [
    "# counting the usage of pages and churn instances for each instance in the user log\n",
    "page_df = df.groupby(['page','churn']).count().toPandas()\n",
    "\n",
    "# Filtering out 'NextSong' event, as it is not indicative of usage patterns\n",
    "page_df = page_df[page_df['page'] != 'NextSong']\n",
    "\n",
    "# Calculating percentages to view\n",
    "page_df = ((page_df.groupby(['page','churn']).sum() / page_df.groupby(['churn']).sum())*100).reset_index()\n",
    "\n",
    "# Replacing churn 0 and 1 values with active/cancelled for ease of visualization\n",
    "page_df['churn'].replace({0:'Active', 1: 'Cancelled'},inplace = True)\n",
    "\n",
    "plt.figure(figsize=(12,10))\n",
    "plt.grid(True)\n",
    "sns.barplot(y = 'page', x = 'count', data = page_df, hue = 'churn')\n",
    "plt.title(\" % of events by Subscription status\")\n",
    "plt.ylabel('Eventes')\n",
    "plt.xlabel('% of envents')"
   ]
  },
  {
   "cell_type": "markdown",
   "metadata": {},
   "source": [
    "It could be noticed from the above chart that the significant difference between Churn and active users appears in usage of 'Roll Advert'. Advertisment could be a siginificant issue for users."
   ]
  },
  {
   "cell_type": "markdown",
   "metadata": {},
   "source": [
    "**Pages usage per day of the month**"
   ]
  },
  {
   "cell_type": "code",
   "execution_count": 11,
   "metadata": {},
   "outputs": [
    {
     "data": {
      "text/plain": [
       "Text(0.5, 0, 'day of month')"
      ]
     },
     "execution_count": 11,
     "metadata": {},
     "output_type": "execute_result"
    },
    {
     "data": {
      "image/png": "[encoded data removed]",
      "text/plain": [
       "<Figure size 1152x288 with 1 Axes>"
      ]
     },
     "metadata": {
      "needs_background": "light"
     },
     "output_type": "display_data"
    }
   ],
   "source": [
    "# Function for pulling the day information out of the timestamp\n",
    "get_day = udf(lambda x: datetime.datetime.fromtimestamp(x / 1000.0).day)\n",
    "\n",
    "# Creating a new column for the day of month\n",
    "df = df.withColumn(\"day\", get_day(df.ts))\n",
    "\n",
    "# Counting the interactions for each day for each tupe of subscription status 'churn'\n",
    "day_df = df.groupby(['day','churn']).count().toPandas()\n",
    "\n",
    "# Calculating percentage\n",
    "day_df = ((day_df.groupby(['day','churn']).sum() / day_df.groupby(['churn']).sum())*100).reset_index()\n",
    "\n",
    "# Casting the day as an integer\n",
    "day_df['day'] = day_df['day'].astype(int)\n",
    "\n",
    "# Replacing churn 0 and 1 values with active/cancelled for ease of visualization\n",
    "day_df['churn'].replace({0:'Active', 1: 'Cancelled'}, inplace = True)\n",
    "\n",
    "# Sorting the days to appear in the right order on the month\n",
    "day_df.sort_values(by = 'day', ascending = True, inplace = True)\n",
    "\n",
    "# Visualization\n",
    "plt.figure(figsize=(16,4))\n",
    "sns.barplot(x = 'day', y = 'count', data = day_df, hue = 'churn')\n",
    "plt.title(\" % of users who took action daily\")\n",
    "plt.ylabel('% of users')\n",
    "plt.xlabel('day of month')"
   ]
  },
  {
   "cell_type": "markdown",
   "metadata": {},
   "source": [
    "It appears from the above chart that the churn users activity raises by the end of month."
   ]
  },
  {
   "cell_type": "markdown",
   "metadata": {},
   "source": [
    "# Feature Engineering\n",
    "Once you've familiarized yourself with the data, build out the features you find promising to train your model on. To work with the full dataset, you can follow the following steps.\n",
    "- Write a script to extract the necessary features from the smaller subset of data\n",
    "- Ensure that your script is scalable, using the best practices discussed in Lesson 3\n",
    "- Try your script on the full data set, debugging your script if necessary\n",
    "\n",
    "If you are working in the classroom workspace, you can just extract features based on the small subset of data contained here. Be sure to transfer over this work to the larger dataset when you work on your Spark cluster."
   ]
  },
  {
   "cell_type": "code",
   "execution_count": 15,
   "metadata": {},
   "outputs": [],
   "source": [
    "def feature_engineering(df):\n",
    "    '''\n",
    "    a function that takes extractes features from the original dataframe and returns it as user oriented to enable to study of the behaviour of each user.\n",
    "    Input: original dataframe (user_log)\n",
    "    output: a user_oriented dataframe\n",
    "    '''\n",
    "\n",
    "    # Feature 1 : Total number of songs listened by each user\n",
    "    feat_1 = df.select('userId', 'song') \\\n",
    "        .groupBy('userId') \\\n",
    "        .count() \\\n",
    "        .withColumnRenamed('count', 'song_count')\n",
    "\n",
    "    # Feature 2 : Total time spent for each user\n",
    "    feat_2 = df.select('userID', 'length') \\\n",
    "        .groupBy('userID') \\\n",
    "        .agg({'length': 'sum'}) \\\n",
    "        .withColumnRenamed('sum(length)', 'listen_time')\n",
    "\n",
    "    # Feature 3 : Number of thumbs-up\n",
    "    feat_3 = df.select('userID', 'page') \\\n",
    "        .where(df.page == 'Thumbs Up') \\\n",
    "        .groupBy('userID') \\\n",
    "        .agg({'page': 'count'}) \\\n",
    "        .withColumnRenamed('count(page)', 'thumb_ups')\n",
    "\n",
    "    # Feature 4 : thumbs-down\n",
    "    feat_4 = df.select('userID', 'page') \\\n",
    "        .where(df.page == 'Thumbs Down') \\\n",
    "        .groupBy('userID') \\\n",
    "        .agg({'page': 'count'}) \\\n",
    "        .withColumnRenamed('count(page)', 'thumb_downs')\n",
    "\n",
    "    # Feature 5 : Number of adds to playlist\n",
    "    feat_5 = df.select('userID', 'page') \\\n",
    "        .where(df.page == 'Add to Playlist') \\\n",
    "        .groupBy('userID') \\\n",
    "        .agg({'page': 'count'}) \\\n",
    "        .withColumnRenamed('count(page)', 'playlist_adds')\n",
    "\n",
    "    # Feature 6 : Number of lifetime\n",
    "    feat_6 = df.select('userID', 'registration', 'ts') \\\n",
    "        .withColumn('lifetime', (df.ts - df.registration)) \\\n",
    "        .groupBy('userID') \\\n",
    "        .agg({'lifetime': 'max'}) \\\n",
    "        .withColumnRenamed('max(lifetime)', 'lifetime')\n",
    "\n",
    "    # Feature 7 : Total number of friend add requests sent\n",
    "    feat_7 = df.select('userId', 'page') \\\n",
    "            .where(df.page == 'Add Friend') \\\n",
    "            .groupBy('userId') \\\n",
    "            .count() \\\n",
    "            .withColumnRenamed('count', 'friend_requests')\n",
    "    \n",
    "    # Feature 8 : Gender of the user\n",
    "    feat_8 = df.select('userId', 'gender') \\\n",
    "            .dropDuplicates() \\\n",
    "            .replace(['F', 'M'], ['0', '1'], 'gender') \\\n",
    "            .select('userId', col('gender').cast('int'))\n",
    "    \n",
    "    # Feature 9: Number of help\n",
    "    feat_9 = df.select('userID','page') \\\n",
    "                .where(df.page == 'Help') \\\n",
    "                .groupBy('userID') \\\n",
    "                .agg({'page':'count'}) \\\n",
    "                .withColumnRenamed('count(page)', 'help') \n",
    "    \n",
    "    # Feature 10 : Number of rolladvert\n",
    "    feat_10 = df.select('userID','page') \\\n",
    "                .where(df.page == 'Roll Advert') \\\n",
    "                .groupBy('userID') \\\n",
    "                .agg({'page':'count'}) \\\n",
    "                .withColumnRenamed('count(page)', 'rolladvert')\n",
    "    \n",
    "    # Feature 11 : Total number of songs listened per session\n",
    "    feat_11  = df.where('page == \"NextSong\"') \\\n",
    "                .groupby(['userId', 'sessionId']) \\\n",
    "                .count() \\\n",
    "                .groupby('userId') \\\n",
    "                .agg({'count' : 'avg'}) \\\n",
    "                .withColumnRenamed('avg(count)', 'avg_played_songs')\n",
    "    \n",
    "    # Feature 12 : Total number of artists the user has listened to\n",
    "    feat_12 = df.filter(df.page == \"NextSong\") \\\n",
    "                .select(\"userId\", \"artist\") \\\n",
    "                .dropDuplicates() \\\n",
    "                .groupby(\"userId\") \\\n",
    "                .count() \\\n",
    "                .withColumnRenamed(\"count\", \"tot_artist_played\")\n",
    "    \n",
    "    # setting the churn label\n",
    "    target = df.select('userId', col('churn').alias('label')).dropDuplicates()\n",
    "    \n",
    "    # Combining all features with the target churn label\n",
    "    final_df  = feat_1.join(feat_2,'userID','outer') \\\n",
    "    .join(feat_3,'userID','outer') \\\n",
    "    .join(feat_4,'userID','outer') \\\n",
    "    .join(feat_5,'userID','outer') \\\n",
    "    .join(feat_6,'userID','outer') \\\n",
    "    .join(feat_7,'userID','outer') \\\n",
    "    .join(feat_8,'userID','outer') \\\n",
    "    .join(feat_9,'userID','outer') \\\n",
    "    .join(feat_10,'userID','outer') \\\n",
    "    .join(feat_11,'userID','outer') \\\n",
    "    .join(feat_12,'userID','outer') \\\n",
    "    .join(target,'userID','outer') \\\n",
    "    .drop('userID') \\\n",
    "    .fillna(0)\n",
    "    \n",
    "    # Final dataframe columns names\n",
    "    inputcols = ['song_count',\n",
    "     'listen_time',\n",
    "     'thumb_ups',\n",
    "     'thumb_downs',\n",
    "     'playlist_adds',\n",
    "     'lifetime',\n",
    "     'friend_requests',\n",
    "     'gender',\n",
    "     'help',\n",
    "     'rolladvert',\n",
    "     'avg_played_songs',\n",
    "     'tot_artist_played']\n",
    "    \n",
    "    # Combining created features into a single feature for ease of modelling\n",
    "    \n",
    "    # Instintiating a Vector assembler\n",
    "    assembler = VectorAssembler(inputCols = inputcols, outputCol = \"NumFeatures\")\n",
    "    \n",
    "    # Application of assembler on the final form of data\n",
    "    final_df = assembler.transform(final_df)\n",
    "    \n",
    "    # Selecting features and label\n",
    "    final_df = final_df.select(['label','NumFeatures'])\n",
    "    \n",
    "    # Splitting into train and test \n",
    "    train, test = final_df.randomSplit([0.8, 0.2], seed = 1)\n",
    "    \n",
    "    # Scaling the input features \n",
    "    stscaler = StandardScaler(inputCol=\"NumFeatures\", outputCol=\"features\", withStd=True)\n",
    "    \n",
    "    # Fit the scaler only on training set\n",
    "    scalerModel = stscaler.fit(train)\n",
    "    \n",
    "    # Transformation of train and test sets\n",
    "    train = scalerModel.transform(train)\n",
    "    test = scalerModel.transform(test)\n",
    "    \n",
    "    return train, test\n",
    "\n",
    "train, test = feature_engineering(df)"
   ]
  },
  {
   "cell_type": "markdown",
   "metadata": {},
   "source": [
    "# Modeling\n",
    "Split the full dataset into train, test, and validation sets. Test out several of the machine learning methods you learned. Evaluate the accuracy of the various models, tuning parameters as necessary. Determine your winning model based on test accuracy and report results on the validation set. Since the churned users are a fairly small subset, I suggest using F1 score as the metric to optimize."
   ]
  },
  {
   "cell_type": "code",
   "execution_count": 20,
   "metadata": {},
   "outputs": [],
   "source": [
    "# Models to train: logistic regression, svm, gradient boosting tree\n",
    "logistic_reg = LogisticRegression(maxIter=10, regParam =0.0)\n",
    "\n",
    "gbt = GBTClassifier(maxDepth = 5, maxIter = 10, seed = 42)\n",
    "\n",
    "svm = LinearSVC (maxIter = 10,  regParam = 0.01)"
   ]
  },
  {
   "cell_type": "code",
   "execution_count": 21,
   "metadata": {},
   "outputs": [
    {
     "data": {
      "text/plain": [
       "[0.6146469801842698, 0.6288399077982244, 0.6178544554854115]"
      ]
     },
     "execution_count": 21,
     "metadata": {},
     "output_type": "execute_result"
    }
   ],
   "source": [
    "# Logistic Regression\n",
    "e1 = MulticlassClassificationEvaluator(metricName = 'f1')\n",
    "\n",
    "# A param grid to test model over\n",
    "paramGrid = ParamGridBuilder() \\\n",
    "    .addGrid(logistic_reg.regParam,[0.0, 0.05, 0.1]) \\\n",
    "    .build()\n",
    "\n",
    "# Applying cross validation instance\n",
    "crossval = CrossValidator(estimator = logistic_reg,\n",
    "                          estimatorParamMaps=paramGrid,\n",
    "                          evaluator=e1,\n",
    "                          numFolds=3)\n",
    "\n",
    "# fitting the cross validation \n",
    "cvModel_q1 = crossval.fit(train)\n",
    "\n",
    "# Returning the values acquired by the cross validation over the paramgrid\n",
    "cvModel_q1.avgMetrics"
   ]
  },
  {
   "cell_type": "code",
   "execution_count": 22,
   "metadata": {},
   "outputs": [
    {
     "data": {
      "text/plain": [
       "[0.5646695016450868, 0.5803783785381742, 0.5412244374613481]"
      ]
     },
     "execution_count": 22,
     "metadata": {},
     "output_type": "execute_result"
    }
   ],
   "source": [
    "# Support Vector Machine \n",
    "e1 = MulticlassClassificationEvaluator(metricName='f1')\n",
    "\n",
    "# A param grid to test model over\n",
    "paramGrid = ParamGridBuilder() \\\n",
    "    .addGrid(svm.regParam,[0.01, 0.05, 0.5]) \\\n",
    "    .build()\n",
    "\n",
    "# Applying cross validation instance\n",
    "crossval = CrossValidator(estimator=svm,\n",
    "                          estimatorParamMaps=paramGrid,\n",
    "                          evaluator=e1,\n",
    "                          numFolds=3)\n",
    "\n",
    "# fitting the cross validation \n",
    "cvModel_q2 = crossval.fit(train)\n",
    "\n",
    "# Returning the values acquired by the cross validation over the paramgrid\n",
    "cvModel_q2.avgMetrics"
   ]
  },
  {
   "cell_type": "code",
   "execution_count": 23,
   "metadata": {},
   "outputs": [
    {
     "data": {
      "text/plain": [
       "[0.6135204744393379, 0.6103340731650645]"
      ]
     },
     "execution_count": 23,
     "metadata": {},
     "output_type": "execute_result"
    }
   ],
   "source": [
    "# Gradient boosted tree\n",
    "e1 = MulticlassClassificationEvaluator(metricName='f1')\n",
    "\n",
    "# A param grid to test model over\n",
    "paramGrid = ParamGridBuilder() \\\n",
    "    .addGrid(gbt.maxDepth,[5, 10]) \\\n",
    "    .build()\n",
    "\n",
    "# Applying cross validation instance\n",
    "crossval = CrossValidator(estimator=gbt,\n",
    "                          estimatorParamMaps=paramGrid,\n",
    "                          evaluator=e1,\n",
    "                          numFolds=3)\n",
    "\n",
    "# fitting the cross validation \n",
    "cvModel_q3 = crossval.fit(train)\n",
    "\n",
    "# Returning the values acquired by the cross validation over the paramgrid\n",
    "cvModel_q3.avgMetrics"
   ]
  },
  {
   "cell_type": "code",
   "execution_count": 24,
   "metadata": {},
   "outputs": [
    {
     "name": "stdout",
     "output_type": "stream",
     "text": [
      "0.652771746996671\n"
     ]
    }
   ],
   "source": [
    "gbt_tuned = GBTClassifier(maxDepth = 5, maxIter = 20 ,seed = 1)\n",
    "gbt_model = gbt_tuned.fit(train)\n",
    "results = gbt_model.transform(test)\n",
    "evaluator = MulticlassClassificationEvaluator(predictionCol=\"prediction\")\n",
    "print(evaluator.evaluate(results, {evaluator.metricName: \"f1\"}))"
   ]
  },
  {
   "cell_type": "code",
   "execution_count": 25,
   "metadata": {},
   "outputs": [
    {
     "data": {
      "text/plain": [
       "SparseVector(12, {0: 0.0793, 1: 0.0324, 2: 0.1257, 3: 0.1151, 4: 0.0835, 5: 0.1308, 6: 0.0897, 7: 0.0192, 8: 0.0305, 9: 0.1796, 10: 0.0581, 11: 0.0561})"
      ]
     },
     "execution_count": 25,
     "metadata": {},
     "output_type": "execute_result"
    }
   ],
   "source": [
    "gbt_model.featureImportances"
   ]
  },
  {
   "cell_type": "code",
   "execution_count": 30,
   "metadata": {},
   "outputs": [
    {
     "data": {
      "image/png": "[encoded data removed]",
      "text/plain": [
       "<Figure size 432x288 with 1 Axes>"
      ]
     },
     "metadata": {
      "needs_background": "light"
     },
     "output_type": "display_data"
    }
   ],
   "source": [
    "features_importance = [('song_count',0.0793),\n",
    "     ('listen_time',0.0324),\n",
    "     ('thumb_ups',0.1257),\n",
    "     ('thumb_downs',0.1151),\n",
    "     ('playlist_adds',0.0835),\n",
    "     ('lifetime',0.1308),\n",
    "     ('friend_requests',0.0897),\n",
    "     ('gender',0.0192),\n",
    "     ('help',0.0305),\n",
    "     ('rolladvert',0.1796),\n",
    "     ('avg_played_songs',0.0581),\n",
    "     ('tot_artist_played',0.0561)]\n",
    "\n",
    "plt.bar(range(len(features_importance)), [val[1] for val in features_importance], align='center')\n",
    "plt.xticks(range(len(features_importance)), [val[0] for val in features_importance])\n",
    "plt.xticks(rotation=60)\n",
    "plt.show()"
   ]
  },
  {
   "cell_type": "markdown",
   "metadata": {},
   "source": [
    "# Final Steps\n",
    "Clean up your code, adding comments and renaming variables to make the code easier to read and maintain. Refer to the Spark Project Overview page and Data Scientist Capstone Project Rubric to make sure you are including all components of the capstone project and meet all expectations. Remember, this includes thorough documentation in a README file in a Github repository, as well as a web app or blog post."
   ]
  },
  {
   "cell_type": "code",
   "execution_count": null,
   "metadata": {},
   "outputs": [],
   "source": []
  }
 ],
 "metadata": {
  "kernelspec": {
   "display_name": "Python 3",
   "language": "python",
   "name": "python3"
  },
  "language_info": {
   "codemirror_mode": {
    "name": "ipython",
    "version": 3
   },
   "file_extension": ".py",
   "mimetype": "text/x-python",
   "name": "python",
   "nbconvert_exporter": "python",
   "pygments_lexer": "ipython3",
   "version": "3.8.5"
  },
  "toc": {
   "base_numbering": 1,
   "nav_menu": {},
   "number_sections": true,
   "sideBar": true,
   "skip_h1_title": false,
   "title_cell": "Table of Contents",
   "title_sidebar": "Contents",
   "toc_cell": false,
   "toc_position": {},
   "toc_section_display": true,
   "toc_window_display": false
  }
 },
 "nbformat": 4,
 "nbformat_minor": 2
}
